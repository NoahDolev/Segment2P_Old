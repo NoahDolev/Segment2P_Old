{
 "cells": [
  {
   "cell_type": "code",
   "execution_count": null,
   "metadata": {},
   "outputs": [],
   "source": [
    "!pip install --upgrade pip\n",
    "!pip install keras"
   ]
  },
  {
   "cell_type": "code",
   "execution_count": 1,
   "metadata": {},
   "outputs": [
    {
     "name": "stderr",
     "output_type": "stream",
     "text": [
      "Using TensorFlow backend.\n"
     ]
    }
   ],
   "source": [
    "import boto3, re\n",
    "import sagemaker\n",
    "from sagemaker import get_execution_role\n",
    "from sagemaker.tensorflow import TensorFlow\n",
    "from sagemaker.tensorflow.model import TensorFlowModel\n",
    "import tarfile\n",
    "import keras\n",
    "from keras.models import model_from_json\n",
    "role = get_execution_role()"
   ]
  },
  {
   "cell_type": "code",
   "execution_count": 54,
   "metadata": {},
   "outputs": [
    {
     "name": "stdout",
     "output_type": "stream",
     "text": [
      "mkdir: cannot create directory ‘/tmp/export’: File exists\n",
      "mkdir: cannot create directory ‘/tmp/export/servo’: File exists\n"
     ]
    }
   ],
   "source": [
    "# with tarfile.open('/home/ec2-user/SageMaker/keras_model/exported_model/model0100.tar.gz', mode='w:gz') as archive:\n",
    "#     archive.add(\"/home/ec2-user/SageMaker/keras_model/savedmodel_0100/\", recursive=True)\n",
    "\n",
    "try:\n",
    "    !mkdir /tmp/export\n",
    "    !mkdir /tmp/export/servo\n",
    "    !mkdir /tmp/export/servo/0\n",
    "except:\n",
    "    pass\n",
    "\n",
    "!cp /home/ec2-user/SageMaker/keras_model/savedmodel_0100/saved_model.pb /tmp/export/servo/0\n",
    "!cp -r /home/ec2-user/SageMaker/keras_model/savedmodel_0100/variables /tmp/export/servo/variables\n",
    "with tarfile.open('/tmp/model0100.tar.gz', mode='w:gz') as archive:\n",
    "     archive.add(\"/tmp/export\",arcname=\"/export\", recursive=True)\n"
   ]
  },
  {
   "cell_type": "code",
   "execution_count": 55,
   "metadata": {},
   "outputs": [],
   "source": [
    "sagemaker_session = sagemaker.Session()\n",
    "inputs = sagemaker_session.upload_data(path='/tmp/model0100.tar.gz',\n",
    "                                       key_prefix='model')\n",
    "\n",
    "sagemaker_model = TensorFlowModel(model_data = 's3://' + sagemaker_session.default_bucket() + '/model/model0100.tar.gz',\n",
    "                                  role = role,\n",
    "                                  framework_version='1.13', py_version='py3',\n",
    "                                  entry_point = 'train.py', image = '763104351884.dkr.ecr.eu-west-1.amazonaws.com/tensorflow-inference:1.13-cpu' )"
   ]
  },
  {
   "cell_type": "code",
   "execution_count": null,
   "metadata": {},
   "outputs": [
    {
     "name": "stdout",
     "output_type": "stream",
     "text": [
      "-------------------------------------------------------------------------------------------------------------------------------------------------------------------------------------------------------------------------------------------------------------------------------------------------------------------------------------------------------------------------------------------------------------------------------------------------------------------------------------------------------------------------------------------------------------------------------------------------------------------------------------------------------------------------------------------------------------------------------------------------------------------------------------------------------------------------------------------------------------------------------------------------------------------------------------------------------------------------------------------------------------------------------------------------------------------------------------------------------------------------"
     ]
    }
   ],
   "source": [
    "predictor = sagemaker_model.deploy(initial_instance_count=1,\n",
    "                                   instance_type='ml.m4.xlarge')"
   ]
  },
  {
   "cell_type": "code",
   "execution_count": null,
   "metadata": {},
   "outputs": [],
   "source": [
    "sagemaker_model = TensorFlowModel(model_data = 's3://' + sagemaker_session.default_bucket() + '/model/model0100.tar.gz',\n",
    "                                  role = role,\n",
    "                                  framework_version='1.13', py_version='py3',\n",
    "                                  entry_point = 'train.py', image = '520713654638.dkr.ecr.eu-west-1.amazonaws.com/tensorflow-inference:1.13-cpu' )"
   ]
  }
 ],
 "metadata": {
  "kernelspec": {
   "display_name": "conda_amazonei_tensorflow_p36",
   "language": "python",
   "name": "conda_amazonei_tensorflow_p36"
  },
  "language_info": {
   "codemirror_mode": {
    "name": "ipython",
    "version": 3
   },
   "file_extension": ".py",
   "mimetype": "text/x-python",
   "name": "python",
   "nbconvert_exporter": "python",
   "pygments_lexer": "ipython3",
   "version": "3.6.5"
  }
 },
 "nbformat": 4,
 "nbformat_minor": 2
}
