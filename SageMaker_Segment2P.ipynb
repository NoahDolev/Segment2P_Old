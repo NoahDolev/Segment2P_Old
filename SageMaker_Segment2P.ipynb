{
 "cells": [
  {
   "cell_type": "code",
   "execution_count": null,
   "metadata": {},
   "outputs": [],
   "source": [
    "# Step 1: Process TIF file into proper format and size\n",
    "\n",
    "\n",
    "\n"
   ]
  },
  {
   "cell_type": "code",
   "execution_count": null,
   "metadata": {},
   "outputs": [],
   "source": [
    "# Step 2: Ingest TIF file to be serve to model\n",
    "\n",
    "\n",
    "\n"
   ]
  },
  {
   "cell_type": "code",
   "execution_count": null,
   "metadata": {},
   "outputs": [],
   "source": [
    "# Step 3: Run model as inference\n"
   ]
  },
  {
   "cell_type": "code",
   "execution_count": null,
   "metadata": {},
   "outputs": [],
   "source": [
    "# Step 4: Display mask - tiff overlay"
   ]
  },
  {
   "cell_type": "code",
   "execution_count": null,
   "metadata": {},
   "outputs": [],
   "source": [
    "## Step 5: Offer mask for download\n",
    "# import boto3\n",
    "# import json\n",
    " \n",
    "# endpoint = '<insert name of your endpoint here>'\n",
    "# runtime = boto3.Session().client('sagemaker-runtime')\n",
    " \n",
    "# # Read image into memory\n",
    "# with open(image, 'rb') as f:\n",
    "#     payload = f.read()\n",
    "# # Send image via InvokeEndpoint API\n",
    "# response = runtime.invoke_endpoint(EndpointName=endpoint, ContentType='application/x-image', Body=payload)\n",
    "# # Unpack response\n",
    "# result = json.loads(response['Body'].read().decode())"
   ]
  }
 ],
 "metadata": {
  "kernelspec": {
   "display_name": "conda_amazonei_tensorflow_p36",
   "language": "python",
   "name": "conda_amazonei_tensorflow_p36"
  },
  "language_info": {
   "codemirror_mode": {
    "name": "ipython",
    "version": 3
   },
   "file_extension": ".py",
   "mimetype": "text/x-python",
   "name": "python",
   "nbconvert_exporter": "python",
   "pygments_lexer": "ipython3",
   "version": "3.6.5"
  }
 },
 "nbformat": 4,
 "nbformat_minor": 2
}
